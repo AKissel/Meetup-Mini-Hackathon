{
 "cells": [
  {
   "cell_type": "code",
   "execution_count": null,
   "metadata": {},
   "outputs": [],
   "source": [
    "# Census data info: https://data.colorado.gov/Demographics/Census-Zip-Codes-in-Colorado-2016/rwak-e74e \n",
    "url = 'https://data.colorado.gov/api/views/55mv-2ynf/rows.json?accessType=DOWNLOAD'"
   ]
  }
 ],
 "metadata": {
  "kernelspec": {
   "display_name": "R",
   "language": "R",
   "name": "ir"
  },
  "language_info": {
   "codemirror_mode": "r",
   "file_extension": ".r",
   "mimetype": "text/x-r-source",
   "name": "R",
   "pygments_lexer": "r",
   "version": "3.4.0"
  }
 },
 "nbformat": 4,
 "nbformat_minor": 2
}
